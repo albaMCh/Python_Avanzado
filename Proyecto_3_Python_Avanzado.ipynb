{
  "nbformat": 4,
  "nbformat_minor": 0,
  "metadata": {
    "colab": {
      "provenance": [],
      "include_colab_link": true
    },
    "kernelspec": {
      "name": "python3",
      "display_name": "Python 3"
    },
    "language_info": {
      "name": "python"
    }
  },
  "cells": [
    {
      "cell_type": "markdown",
      "metadata": {
        "id": "view-in-github",
        "colab_type": "text"
      },
      "source": [
        "<a href=\"https://colab.research.google.com/github/albaMCh/Python_Avanzado/blob/main/Proyecto_3_Python_Avanzado.ipynb\" target=\"_parent\"><img src=\"https://colab.research.google.com/assets/colab-badge.svg\" alt=\"Open In Colab\"/></a>"
      ]
    },
    {
      "cell_type": "markdown",
      "source": [
        "#Proyecto Python avanzado 3\n",
        "\n",
        "En esta ocasión Vamos a crear una versión sencilla del juego del buscaminas. \n",
        "\n",
        "Para ello, como siempre, iremos paso a paso creando una clase con varios métodos donde el último de ellos sea capaz de simular una partida completa.\n",
        "\n",
        "\n",
        "\n",
        "##Definir la clase y el método para generar el tablero\n",
        "\n",
        "La clase se llamará Buscaminas y el primer método tablero_inicial.\n",
        "\n",
        "Este método recibirá como parámetro el número de filas, de columnas y el caracter con el que deseamos rellenar el tablero.\n",
        "\n",
        "El método devolverá una lista  con tantas listas como filas y de longitud  igual a las columnas donde el valor de cada uno de los elementos sea igual a un mismo caracter.\n",
        "\n",
        "Por ejemplo generar un tablero de 5 filas y 5 columnas relleno de 0.\n",
        "\n",
        "Entrada\n",
        "\n",
        "      Buscaminas().tablero_inicial(5,5,0)\n",
        "\n",
        "Salida\n",
        "\n",
        "    [[0, 0, 0, 0, 0],\n",
        "    [0, 0, 0, 0, 0],\n",
        "    [0, 0, 0, 0, 0],\n",
        "    [0, 0, 0, 0, 0],\n",
        "    [0, 0, 0, 0, 0]]"
      ],
      "metadata": {
        "id": "R1V8WRkt_JYc"
      }
    },
    {
      "cell_type": "code",
      "source": [
        "import random\n",
        "\n",
        "#Define la clase Buscaminas y crea el método tablero_inicial\n",
        "\n",
        "import random\n",
        "\n",
        "class Buscaminas:\n",
        "\n",
        "  def tablero_inicial(self,filas,columnas,caracter):\n",
        "    self.filas=filas\n",
        "    self.columnas=columnas\n",
        "    self.caracter=caracter\n",
        "    matriz = []\n",
        "    for y in range(self.filas):\n",
        "        # Agregamos un arreglo a la matriz, que sería una fila básicamente\n",
        "        matriz.append([])\n",
        "        for x in range(self.columnas):\n",
        "            # Y luego agregamos una celda a esa fila. Por defecto lleva \"Mar\"\n",
        "            matriz[y].append(self.caracter)\n",
        "    return matriz\n",
        "Buscaminas().tablero_inicial(5,5,0)\n",
        "\n",
        "\n"
      ],
      "metadata": {
        "id": "t8CN3LHDEGhm",
        "outputId": "01afc7b7-873a-4060-ec2a-7010bfe83a86",
        "colab": {
          "base_uri": "https://localhost:8080/"
        }
      },
      "execution_count": null,
      "outputs": [
        {
          "output_type": "execute_result",
          "data": {
            "text/plain": [
              "[[0, 0, 0, 0, 0],\n",
              " [0, 0, 0, 0, 0],\n",
              " [0, 0, 0, 0, 0],\n",
              " [0, 0, 0, 0, 0],\n",
              " [0, 0, 0, 0, 0]]"
            ]
          },
          "metadata": {},
          "execution_count": 1
        }
      ]
    },
    {
      "cell_type": "code",
      "source": [
        "#@title Comprueba el método tablero_inical\n",
        "\n",
        "def check():\n",
        "\n",
        "  tablero = Buscaminas().tablero_inicial(5,6,1)\n",
        "  suma=0\n",
        "  for i in range(len(tablero)):\n",
        "    suma+=sum(tablero[i])\n",
        "  if len(tablero[0])==6 and len(tablero)==5 and suma==len(tablero[0])*len(tablero):\n",
        "     return 'Correcto'\n",
        "  else:\n",
        "    return 'Incorrecto'\n",
        "\n",
        "check()"
      ],
      "metadata": {
        "id": "KCiS1lbXP2B-",
        "cellView": "form",
        "outputId": "35191b20-1bec-4018-c72f-8a1c3ba8ac54",
        "colab": {
          "base_uri": "https://localhost:8080/",
          "height": 58
        }
      },
      "execution_count": null,
      "outputs": [
        {
          "output_type": "execute_result",
          "data": {
            "text/plain": [
              "'Correcto'"
            ],
            "application/vnd.google.colaboratory.intrinsic+json": {
              "type": "string"
            }
          },
          "metadata": {},
          "execution_count": 2
        }
      ]
    },
    {
      "cell_type": "markdown",
      "source": [
        "##Colocar las minas\n",
        "\n",
        "Ahora crearemos el método colocar_minas, encargado de colocar las minas aleatoriamente. Este método recibirá como parámetros el número de filas, el número de columnas y el número de minas.\n",
        "\n",
        "El método debe:\n",
        "\n",
        "* Llamar al método tablero_inicial para las filas y columnas introducidas por parámetro y rellenarlo con ceros.\n",
        "* Comprobar que el número de minas que deseas introducir es menor que el número de casillas del tablero y si no es así pedir al usuario mediante un input con el mensaje 'El número de minas no puede ser mayor que el número de casillas, introduzca un número de minas menor' hasta que se cumpla.\n",
        "\n",
        "* Colocar las minas aleatoriamente en el tablero, sustituyendo el 0 en esa posición por una 'B'. Asegúrate que el número final de minas colocadas en el tablero debe ser igual al número introducido como parámetro.\n",
        "\n",
        "\n",
        "Ejemplo Colocar, en un tablero 5x5, 5 minas.\n",
        "\n",
        "Entrada:\n",
        "\n",
        "      Buscaminas().colocar_minas(5,5,5)\n",
        "\n",
        "Salida:\n",
        "\n",
        "    [['B', 0, 0, 0, 'B'],\n",
        "    [0, 0, 'B', 0, 0],\n",
        "    [0, 0, 0, 0, 0],\n",
        "    [0, 0, 0, 0, 'B'],\n",
        "    [0, 0, 0, 'B', 0]]\n"
      ],
      "metadata": {
        "id": "bQkDz9TeEPpy"
      }
    },
    {
      "cell_type": "code",
      "source": [
        "#Añade a la clase Buscaminas el método colocar_minas\n",
        "import random\n",
        "\n",
        "class Buscaminas:\n",
        "\n",
        "  def tablero_inicial(self, filas, columnas, caracter):\n",
        "    self.filas = filas\n",
        "    self.columnas = columnas\n",
        "    self.caracter = caracter\n",
        "    tablero = []\n",
        "    for i in range(filas):\n",
        "      tablero.append([])\n",
        "      for j in range(columnas):\n",
        "        tablero[i].append(caracter)\n",
        "    return tablero\n",
        "\n",
        "  def colocar_minas(self, filas, columnas, minas):\n",
        "    self.filas = filas\n",
        "    self.columnas = columnas\n",
        "    self.minas = minas\n",
        "    tablero = Buscaminas().tablero_inicial(filas,columnas,0)\n",
        "    casillas = filas*columnas\n",
        "    if minas >= casillas:\n",
        "      print('El número de minas no puede ser mayor que el número de casillas, introduzca un número de minas menor')\n",
        "      minas = input(minas)          \n",
        "    else:\n",
        "      pass\n",
        "      \n",
        "    cont = 0\n",
        "    while cont < minas: \n",
        "      cont += 1\n",
        "      tablero[random.randint(0,filas-1)][random.randint(0,columnas-1)] = 'B'\n",
        "    cont2 = 0\n",
        "    for i in tablero:\n",
        "      for j in i:\n",
        "        if j == 'B':\n",
        "          cont2 += 1\n",
        "    if cont2 < cont:\n",
        "      tablero[random.randint(0,filas-1)][random.randint(0,columnas-1)] = 'B'\n",
        "    \n",
        "    return tablero\n",
        "\n",
        "\n",
        "Buscaminas().colocar_minas(5,5,5)\n",
        "\n"
      ],
      "metadata": {
        "id": "nuIjOzkFHtYE",
        "outputId": "631e2046-9be7-49b5-8cf6-9ae70d6ae9b3",
        "colab": {
          "base_uri": "https://localhost:8080/"
        }
      },
      "execution_count": null,
      "outputs": [
        {
          "output_type": "execute_result",
          "data": {
            "text/plain": [
              "[[0, 0, 0, 0, 0],\n",
              " [0, 0, 0, 'B', 0],\n",
              " [0, 0, 0, 'B', 'B'],\n",
              " [0, 0, 'B', 0, 'B'],\n",
              " [0, 0, 0, 0, 0]]"
            ]
          },
          "metadata": {},
          "execution_count": 3
        }
      ]
    },
    {
      "cell_type": "code",
      "source": [
        "#@title Comprueba el método colocar_minas\n",
        "def check2():\n",
        "  tablero_check2=Buscaminas().colocar_minas(5,5,5)\n",
        "  casillas=0\n",
        "  minas=0\n",
        "  for i in range(len(tablero_check2)):\n",
        "    for j in range(len(tablero_check2[i])):\n",
        "      casillas+=1\n",
        "      if tablero_check2[i][j]=='B':\n",
        "        minas+=1\n",
        "  if casillas==len(tablero_check2)*len(tablero_check2[0]) and minas==5:\n",
        "    return 'Correcto'\n",
        "  else:\n",
        "    return 'Incorrecto'\n",
        "\n",
        "check2()\n",
        "\n"
      ],
      "metadata": {
        "cellView": "form",
        "id": "Ji57XifxTv7i",
        "outputId": "2121c178-e1d1-423d-b97f-040ac222d8de",
        "colab": {
          "base_uri": "https://localhost:8080/",
          "height": 58
        }
      },
      "execution_count": null,
      "outputs": [
        {
          "output_type": "execute_result",
          "data": {
            "text/plain": [
              "'Correcto'"
            ],
            "application/vnd.google.colaboratory.intrinsic+json": {
              "type": "string"
            }
          },
          "metadata": {},
          "execution_count": 4
        }
      ]
    },
    {
      "cell_type": "markdown",
      "source": [
        "##Generar las pistas en el tablero\n",
        "\n",
        "Ahora generaremos los números que indican cuantas bombas hay alrededor de dicha celda (diagonales incluidas).\n",
        "\n",
        "Recibiendo como parámetro el número de filas, de columnas y de minas deberá:\n",
        "\n",
        "* Llamar al método colocar_minas y generar el tablero con las bombas.\n",
        "\n",
        "* Buscar las bombas en el tablero e incrementar en 1 las celdas adyacentes. Debes tener en cuenta el comportamiento especial de las esquinas y las primeras y últimas filas y columnas.\n",
        "\n",
        "* Devolver la lista de lista resultante:\n",
        "\n",
        "Por ejemplo, siguiendo con el ejemplo de 5 minas en un tablero 5x5 (las bombas, al colocarse aleatoriamente en cada partida no están en el mismo lugar)\n",
        "\n",
        "Entrada:\n",
        "\n",
        "      Buscaminas().numeros(5,5,5)\n",
        "\n",
        "Salida:\n",
        "\n",
        "      [[1, 'B', 2, 1, 1],\n",
        "      [2, 2, 3, 'B', 1],\n",
        "      [1, 'B', 2, 2, 2],\n",
        "      [1, 1, 1, 2, 'B'],\n",
        "      [0, 0, 0, 2, 'B']]\n",
        "\n",
        "\n",
        "\n",
        "\n",
        "\n"
      ],
      "metadata": {
        "id": "3zP12alPIdGX"
      }
    },
    {
      "cell_type": "code",
      "source": [
        "# Añade el método numeros\n",
        "\n",
        "\n",
        "import random\n",
        "\n",
        "class Buscaminas:\n",
        "\n",
        " def tablero_inicial(self, filas, columnas, caracter):\n",
        "    self.filas = filas\n",
        "    self.columnas = columnas\n",
        "    self.caracter = caracter\n",
        "    tablero = []\n",
        "    for i in range(filas):\n",
        "      tablero.append([])\n",
        "      for j in range(columnas):\n",
        "        tablero[i].append(caracter)\n",
        "    return tablero\n",
        " def colocar_minas(self, filas, columnas, minas):\n",
        "    self.filas = filas\n",
        "    self.columnas = columnas\n",
        "    self.minas = minas\n",
        "    tablero = Buscaminas().tablero_inicial(filas,columnas,0)\n",
        "    casillas = filas*columnas\n",
        "    if minas >= casillas:\n",
        "      print('El número de minas no puede ser mayor que el número de casillas, introduzca un número de minas menor')\n",
        "      minas = input(minas)          \n",
        "    else:\n",
        "      pass\n",
        "      \n",
        "    cont = 0\n",
        "    while cont < minas: \n",
        "      cont += 1\n",
        "      tablero[random.randint(0,filas-1)][random.randint(0,columnas-1)] = 'B'\n",
        "    cont2 = 0\n",
        "    for i in tablero:\n",
        "      for j in i:\n",
        "        if j == 'B':\n",
        "          cont2 += 1\n",
        "    if cont2 < cont:\n",
        "      tablero[random.randint(0,filas-1)][random.randint(0,columnas-1)] = 'B'\n",
        "    return tablero\n",
        " def numeros(self, filas, columnas, minas):\n",
        "     self.filas = filas\n",
        "     self.columnas = columnas\n",
        "     self.minas = minas\n",
        "     tablero = Buscaminas().colocar_minas(filas,columnas,minas)\n",
        "                \n",
        "     for y in range(filas):\n",
        "       for x in range(columnas):\n",
        "         if tablero[y][x] == 'B':\n",
        "           for i in [-1,0,1]:\n",
        "             for j in [-1,0,1]:\n",
        "               if 0 <= y+i <= filas-1 and 0 <= x+j <= columnas-1:\n",
        "                 if tablero[y+i][x+j] != 'B':\n",
        "                   tablero[y+i][x+j] += 1\n",
        "\n",
        "     return tablero\n",
        "\n",
        "\n",
        "\n",
        "\n",
        "\n",
        "Buscaminas().numeros(5,5,5)"
      ],
      "metadata": {
        "id": "9oLEXw6lOyWQ",
        "outputId": "9e2963a4-6943-410f-9fbb-2fd50e9175e5",
        "colab": {
          "base_uri": "https://localhost:8080/"
        }
      },
      "execution_count": null,
      "outputs": [
        {
          "output_type": "execute_result",
          "data": {
            "text/plain": [
              "[[1, 'B', 1, 0, 0],\n",
              " [1, 1, 1, 0, 0],\n",
              " [1, 2, 3, 2, 1],\n",
              " [1, 'B', 'B', 'B', 1],\n",
              " [1, 3, 'B', 3, 1]]"
            ]
          },
          "metadata": {},
          "execution_count": 9
        }
      ]
    },
    {
      "cell_type": "code",
      "source": [
        "#@title Comprueba el método numeros\n",
        "\n",
        "\n",
        "def check3():\n",
        "  pistas=Buscaminas().numeros(5,5,5)\n",
        "  bombas=[]\n",
        "  for i in range(len(pistas)):\n",
        "      for j in range(len(pistas[i])):\n",
        "        if pistas[i][j]=='B':\n",
        "          bombas.append([i,j])\n",
        "  i=1\n",
        "  j=1\n",
        "  if pistas[i][j]=='B':\n",
        "    while pistas[i][j]=='B':\n",
        "      if j<5:\n",
        "        j+=1\n",
        "      else:\n",
        "        i+=1\n",
        "        j=1\n",
        "  \n",
        "  minas=0\n",
        "  lista=[[i-1,j-1],[i-1,j],[i-1,j+1],[i,j-1],[i,j+1],[i+1,j-1],[i+1,j],[i+1,j+1]]\n",
        "  for z in lista:\n",
        "    if pistas[z[0]][z[1]]=='B':\n",
        "      minas+=1\n",
        "\n",
        "\n",
        "  if minas==pistas[i][j]:\n",
        "    return 'Correcto'\n",
        "  else: \n",
        "    return 'Incorrecto' \n",
        "    \n",
        "\n",
        "check3()\n",
        "\n"
      ],
      "metadata": {
        "id": "JHVNOqBRWBHF",
        "cellView": "form",
        "outputId": "50f4035f-6c7e-4ba4-bc81-772b7b20f9de",
        "colab": {
          "base_uri": "https://localhost:8080/",
          "height": 58
        }
      },
      "execution_count": null,
      "outputs": [
        {
          "output_type": "execute_result",
          "data": {
            "text/plain": [
              "'Correcto'"
            ],
            "application/vnd.google.colaboratory.intrinsic+json": {
              "type": "string"
            }
          },
          "metadata": {},
          "execution_count": 10
        }
      ]
    },
    {
      "cell_type": "markdown",
      "source": [
        "## Método Jugar\n",
        "\n",
        "Por último el método jugar será el encargado de simular una partida entera. \n",
        "\n",
        "Recibirá como parámetros el número de filas, de columnas y de minas y deberá:\n",
        "\n",
        "* Generar un tablero solución llamando al método numeros.\n",
        "* Generar el tablero de partida que se mostrará al usuario llamando al método tablero_inicial del mismo tamaño que el tablero solución y relleno de ' '.\n",
        "* Pedir al usuario que introduzca los indices de la casilla que desea descubrir (teniendo en cuenta que la casilla de la primera fila y primera columna es la 0,0).\n",
        "\n",
        "* Compruebe el valor de la casilla con esas cordenadas en la matriz solución, almacene dicho valor en el tablero de partida y muestre este tablero. Si el resultado no es una mina repita este proceso hasta que sea una mina y si es una mina devuelva la cadena de texto 'Game Over'\n",
        "\n",
        "Ejemplo:\n",
        "\n",
        "Entrada\n",
        "\n",
        "      Buscaminas().jugar(5,5,5)\n",
        "\n",
        "Salida\n",
        "\n",
        "    introduce la fila y la columna que quieres comprobar (formato f,c):0,0\n",
        "    [0, ' ', ' ', ' ', ' ']\n",
        "    [' ', ' ', ' ', ' ', ' ']\n",
        "    [' ', ' ', ' ', ' ', ' ']\n",
        "    [' ', ' ', ' ', ' ', ' ']\n",
        "    [' ', ' ', ' ', ' ', ' ']\n",
        "    introduce la fila y la columna que quieres comprobar (formato f,c):1,2\n",
        "    [0, ' ', ' ', ' ', ' ']\n",
        "    [' ', ' ', 1, ' ', ' ']\n",
        "    [' ', ' ', ' ', ' ', ' ']\n",
        "    [' ', ' ', ' ', ' ', ' ']\n",
        "    [' ', ' ', ' ', ' ', ' ']\n",
        "    introduce la fila y la columna que quieres comprobar (formato f,c):1,1\n",
        "    [0, ' ', ' ', ' ', ' ']\n",
        "    [' ', 0, 1, ' ', ' ']\n",
        "    [' ', ' ', ' ', ' ', ' ']\n",
        "    [' ', ' ', ' ', ' ', ' ']\n",
        "    [' ', ' ', ' ', ' ', ' ']\n",
        "    introduce la fila y la columna que quieres comprobar (formato f,c):4,4\n",
        "    [0, ' ', ' ', ' ', ' ']\n",
        "    [' ', 0, 1, ' ', ' ']\n",
        "    [' ', ' ', ' ', ' ', ' ']\n",
        "    [' ', ' ', ' ', ' ', ' ']\n",
        "    [' ', ' ', ' ', ' ', 1]\n",
        "    introduce la fila y la columna que quieres comprobar (formato f,c):2,2\n",
        "    [0, ' ', ' ', ' ', ' ']\n",
        "    [' ', 0, 1, ' ', ' ']\n",
        "    [' ', ' ', 2, ' ', ' ']\n",
        "    [' ', ' ', ' ', ' ', ' ']\n",
        "    [' ', ' ', ' ', ' ', 1]\n",
        "    introduce la fila y la columna que quieres comprobar (formato f,c):2,1\n",
        "    [0, ' ', ' ', ' ', ' ']\n",
        "    [' ', 0, 1, ' ', ' ']\n",
        "    [' ', 1, 2, ' ', ' ']\n",
        "    [' ', ' ', ' ', ' ', ' ']\n",
        "    [' ', ' ', ' ', ' ', 1]\n",
        "    introduce la fila y la columna que quieres comprobar (formato f,c):2,4\n",
        "    [0, ' ', ' ', ' ', ' ']\n",
        "    [' ', 0, 1, ' ', ' ']\n",
        "    [' ', 1, 2, ' ', 3]\n",
        "    [' ', ' ', ' ', ' ', ' ']\n",
        "    [' ', ' ', ' ', ' ', 1]\n",
        "    introduce la fila y la columna que quieres comprobar (formato f,c):2,3\n",
        "    [0, ' ', ' ', ' ', ' ']\n",
        "    [' ', 0, 1, ' ', ' ']\n",
        "    [' ', 1, 2, 3, 3]\n",
        "    [' ', ' ', ' ', ' ', ' ']\n",
        "    [' ', ' ', ' ', ' ', 1]\n",
        "    introduce la fila y la columna que quieres comprobar (formato f,c):1,3\n",
        "    [0, ' ', ' ', ' ', ' ']\n",
        "    [' ', 0, 1, 'B', ' ']\n",
        "    [' ', 1, 2, 3, 3]\n",
        "    [' ', ' ', ' ', ' ', ' ']\n",
        "    [' ', ' ', ' ', ' ', 1]\n",
        "    Game Over"
      ],
      "metadata": {
        "id": "LWaQQN3QKeZM"
      }
    },
    {
      "cell_type": "code",
      "source": [
        "#Añade el método jugar a la clase Buscaminas\n",
        "import random\n",
        "\n",
        "class Buscaminas:\n",
        "\n",
        "  def tablero_inicial(self, filas, columnas, caracter):\n",
        "    self.filas = filas\n",
        "    self.columnas = columnas\n",
        "    self.caracter = caracter\n",
        "    tablero = []\n",
        "    for i in range(filas):\n",
        "      tablero.append([])\n",
        "      for j in range(columnas):\n",
        "        tablero[i].append(caracter)\n",
        "    return tablero\n",
        "\n",
        "  def colocar_minas(self, filas, columnas, minas):\n",
        "    self.filas = filas\n",
        "    self.columnas = columnas\n",
        "    self.minas = minas\n",
        "    tablero = Buscaminas().tablero_inicial(filas,columnas,0)\n",
        "    casillas = filas*columnas\n",
        "    if minas >= casillas:\n",
        "      print('El número de minas no puede ser mayor que el número de casillas, introduzca un número de minas menor')\n",
        "      minas = input(minas)          \n",
        "    else:\n",
        "      pass\n",
        "      \n",
        "    cont = 0\n",
        "    while cont < minas: \n",
        "      cont += 1\n",
        "      tablero[random.randint(0,filas-1)][random.randint(0,columnas-1)] = 'B'\n",
        "    cont2 = 0\n",
        "    for i in tablero:\n",
        "      for j in i:\n",
        "        if j == 'B':\n",
        "          cont2 += 1\n",
        "    if cont2 < cont:\n",
        "      tablero[random.randint(0,filas-1)][random.randint(0,columnas-1)] = 'B'\n",
        "    return tablero\n",
        "\n",
        "  def numeros(self, filas, columnas, minas):\n",
        "     self.filas = filas\n",
        "     self.columnas = columnas\n",
        "     self.minas = minas\n",
        "     tablero = Buscaminas().colocar_minas(filas,columnas,minas)\n",
        "                \n",
        "     for y in range(filas):\n",
        "       for x in range(columnas):\n",
        "         if tablero[y][x] == 'B':\n",
        "           for i in [-1,0,1]:\n",
        "             for j in [-1,0,1]:\n",
        "               if 0 <= y+i <= filas-1 and 0 <= x+j <= columnas-1:\n",
        "                 if tablero[y+i][x+j] != 'B':\n",
        "                   tablero[y+i][x+j] += 1\n",
        "     return tablero\n",
        "\n",
        "  def jugar(self, filas, columnas, minas):\n",
        "     self.filas = filas\n",
        "     self.columnas = columnas\n",
        "     self.minas = minas\n",
        "     solucion = Buscaminas().numeros(filas,columnas,minas)\n",
        "     partida = Buscaminas().tablero_inicial(filas, columnas, '')\n",
        "     #casilla = int(input('introduce la fila y la columna que quieres comprobar (formato f,c):'))\n",
        "     casilla = list(map(int, input(\"introduce la fila y la columna que quieres comprobar (formato f,c): \").split(\",\")))\n",
        "     f = casilla[0]\n",
        "     c = casilla[1]\n",
        "     partida[f][c] = solucion[f][c]\n",
        "     print(partida)\n",
        "     if partida[f][c] == 'B':\n",
        "       print('Game over')\n",
        "    \n",
        "\n",
        "\n",
        "     \n",
        "\n",
        "     \n",
        "      \n",
        "\n",
        "\n",
        "\n",
        "\n",
        "\n",
        "\n",
        "\n",
        "\n",
        "\n",
        "\n",
        "Buscaminas().jugar(5,5,5)\n",
        "\n"
      ],
      "metadata": {
        "id": "MjZ8w9qJNaA8",
        "outputId": "b7f776b0-c22b-481f-e681-740d1fba806b",
        "colab": {
          "base_uri": "https://localhost:8080/"
        }
      },
      "execution_count": null,
      "outputs": [
        {
          "output_type": "stream",
          "name": "stdout",
          "text": [
            "introduce la fila y la columna que quieres comprobar (formato f,c): 1, 0\n",
            "[['', '', '', '', ''], [2, '', '', '', ''], ['', '', '', '', ''], ['', '', '', '', ''], ['', '', '', '', '']]\n"
          ]
        }
      ]
    },
    {
      "cell_type": "markdown",
      "source": [
        "#Comprobar el método jugar\n",
        "\n",
        "Para comprobar que el método funciona introduce coordenadas de casillas hasta que te aparezca una bomba y compruebes que efectivamente te devuelve 'Game Over' y deja de pedirte coordenadas."
      ],
      "metadata": {
        "id": "vqULbtpugSFH"
      }
    },
    {
      "cell_type": "code",
      "source": [
        "#@title Consigue tu token para corregir en Nodd3r\n",
        "\n",
        "\n",
        "import hashlib\n",
        "\n",
        "\n",
        "correct = str(check3())+str(Buscaminas().tablero_inicial(3,3,1))+str(check2())\n",
        "pwd = hashlib.sha256(str(correct).encode())\n",
        "#print(pwd.hexdigest())\n",
        "if pwd.hexdigest()[0:6] == '43de9c':\n",
        "  print('¡Felicidades! puedes avanzar al siguiente modulo \\n El token es: ',pwd.hexdigest())\n",
        "else:\n",
        "  print('Hay algún error en el código o tu forma es diferente a la planteada, pregunta por el foro si no lo ves claro.')"
      ],
      "metadata": {
        "id": "ARjVc9EGgl9k",
        "outputId": "d4c7f4c9-6699-4fff-b471-fce0304994ca",
        "colab": {
          "base_uri": "https://localhost:8080/"
        }
      },
      "execution_count": null,
      "outputs": [
        {
          "output_type": "stream",
          "name": "stdout",
          "text": [
            "¡Felicidades! puedes avanzar al siguiente modulo \n",
            " El token es:  43de9c427e6782de5ed2d2aed4705f6beba8beaf54d6d30e99275672ec3926e6\n"
          ]
        }
      ]
    }
  ]
}