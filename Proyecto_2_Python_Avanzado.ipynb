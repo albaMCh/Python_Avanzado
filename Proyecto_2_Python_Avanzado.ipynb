{
  "nbformat": 4,
  "nbformat_minor": 0,
  "metadata": {
    "colab": {
      "provenance": [],
      "include_colab_link": true
    },
    "kernelspec": {
      "name": "python3",
      "display_name": "Python 3"
    },
    "language_info": {
      "name": "python"
    }
  },
  "cells": [
    {
      "cell_type": "markdown",
      "metadata": {
        "id": "view-in-github",
        "colab_type": "text"
      },
      "source": [
        "<a href=\"https://colab.research.google.com/github/albaMCh/Python_Avanzado/blob/main/Proyecto_2_Python_Avanzado.ipynb\" target=\"_parent\"><img src=\"https://colab.research.google.com/assets/colab-badge.svg\" alt=\"Open In Colab\"/></a>"
      ]
    },
    {
      "cell_type": "markdown",
      "source": [
        "#Automatizar generación de Emails personalizados\n",
        "\n",
        "\n",
        "En este proyecto vamos a automatizar la generación de emails. Para ello os entregaremos una lista de correos ficticia de diferentes proveedores de emails (En lugar de utilizar gmail, yahoo y outlook usaremos vmail,gagoo y youtlook, para evitar que sean reales).\n",
        "\n"
      ],
      "metadata": {
        "id": "aOH7LGQfK39p"
      }
    },
    {
      "cell_type": "markdown",
      "source": [
        "# Crear el diccionario proveedor_usuarios\n",
        "\n",
        "Para empezar crearemos la clase y el primer método llamado proveedor_usuarios el cual recibirá una lista de correos como parámetro y devolverá el diccionario donde las claves serán los diferentes proveedores de correos y los valores la lista de nombres de usuario que utilizan dicho proveedor.\n",
        "\n",
        "Por ejemplo, en la dirreción de correo 'jimenez@gagoo.es' el nombre de usuario es 'jimenez' y su proveedor 'gagoo.es'.\n",
        "\n",
        "\n",
        "EJEMPLO\n",
        "* Entrada\n",
        "      Lista_emails=['garcia@vmail.es','sanchez@gagoo.es','pedro@youtlook.es','carlos@vmail.es','german@gagoo.es','pablo@youtlook.es','fernandez@vmail.es','jimenez@gagoo.es','edu.perez@youtlook.es','rubia.17@vmail.es','1995sanz@gagoo.es','donaire@youtlook.es','pascual@vmail.es','pantoja14@vmail.es','romero@gagoo.es']\n",
        "      Email().proveedor_usuarios(Lista_emails)\n",
        "\n",
        "* Salida\n",
        "      {'gagoo.es': ['sanchez', 'german', 'jimenez', '1995sanz', 'romero'], 'vmail.es': ['garcia', 'carlos', 'fernandez', 'rubia.17', 'pascual', 'pantoja14'], 'youtlook.es': ['pedro', 'pablo', 'edu.perez', 'donaire']}"
      ],
      "metadata": {
        "id": "3jajqiSZRl0b"
      }
    },
    {
      "cell_type": "code",
      "source": [
        "Lista_emails=['garcia@vmail.es','sanchez@gagoo.es','pedro@youtlook.es','carlos@vmail.es','german@gagoo.es','pablo@youtlook.es','fernandez@vmail.es','jimenez@gagoo.es','edu.perez@youtlook.es','rubia.17@vmail.es','1995sanz@gagoo.es','donaire@youtlook.es','pascual@vmail.es','pantoja14@vmail.es','romero@gagoo.es']\n",
        "\n",
        "#Define la clase Email y el método proveedor_usuarios\n",
        "class Email():\n",
        "  def proveedor_usuarios(self, lista):\n",
        "    self.lista = lista\n",
        "    proveedores=[]\n",
        "    dict_emails={}\n",
        "    for i in self.lista:\n",
        "      i=i.split('@')\n",
        "      if i[1] not in proveedores:\n",
        "        proveedores.append(i[1])\n",
        "    for x in proveedores:\n",
        "      dict_emails[x]=[user[:user.index('@')] for user in self.lista if x in user]\n",
        "    \n",
        "    return dict_emails\n",
        "\n",
        "\n",
        "\n",
        "\n",
        "\n",
        "Email().proveedor_usuarios(Lista_emails)\n",
        "\n"
      ],
      "metadata": {
        "id": "jJeURjjBVKuf",
        "outputId": "33066e62-9999-4982-9bc7-4c7a4746a2c9",
        "colab": {
          "base_uri": "https://localhost:8080/"
        }
      },
      "execution_count": null,
      "outputs": [
        {
          "output_type": "execute_result",
          "data": {
            "text/plain": [
              "{'vmail.es': ['garcia',\n",
              "  'carlos',\n",
              "  'fernandez',\n",
              "  'rubia.17',\n",
              "  'pascual',\n",
              "  'pantoja14'],\n",
              " 'gagoo.es': ['sanchez', 'german', 'jimenez', '1995sanz', 'romero'],\n",
              " 'youtlook.es': ['pedro', 'pablo', 'edu.perez', 'donaire']}"
            ]
          },
          "metadata": {},
          "execution_count": 1
        }
      ]
    },
    {
      "cell_type": "code",
      "source": [
        "#@title Comprueba el método proveedor_usuarios\n",
        "lista_check=['a1@hola.com','a2@adios.es','b1@hola.com']\n",
        "def check():\n",
        "  if Email().proveedor_usuarios(Lista_emails)=={'gagoo.es': ['sanchez', 'german', 'jimenez', '1995sanz', 'romero'], 'vmail.es': ['garcia', 'carlos', 'fernandez', 'rubia.17', 'pascual', 'pantoja14'], 'youtlook.es': ['pedro', 'pablo', 'edu.perez', 'donaire']} and Email().proveedor_usuarios(lista_check)=={'adios.es': ['a2'], 'hola.com': ['a1', 'b1']}:\n",
        "    return 'Correcto'\n",
        "  else:\n",
        "    return 'Incorrecto'\n",
        "\n",
        "check()"
      ],
      "metadata": {
        "cellView": "form",
        "id": "uASh1GefrpQh",
        "outputId": "627e8ef3-2c10-4090-a4f7-9e72e2082233",
        "colab": {
          "base_uri": "https://localhost:8080/",
          "height": 58
        }
      },
      "execution_count": null,
      "outputs": [
        {
          "output_type": "execute_result",
          "data": {
            "text/plain": [
              "'Correcto'"
            ],
            "application/vnd.google.colaboratory.intrinsic+json": {
              "type": "string"
            }
          },
          "metadata": {},
          "execution_count": 2
        }
      ]
    },
    {
      "cell_type": "markdown",
      "source": [
        "## Método mensaje\n",
        "\n",
        "Añade el método mensaje a la clase anterior.\n",
        "\n",
        "Este método mensaje recibirá como parámetro el texto genérico que contendrá el mensaje y creará un txt con dicho texto llamado mensaje_generico.txt. \n",
        "\n",
        "El texto genérico debe tener marcado entre corchetes '{}' que partes del texto serán personalizables. En este caso el texto genérico será:\n",
        "\n",
        "      'Buenos dias {nombre},\n",
        "      Gracias por elegir {proveedor} como tu proveedor de mensajes.\n",
        "      Un cordial saludo'\n",
        "\n",
        "Este método devolverá la lectura del archivo txt 'mensaje_generico.txt', que deberá ser igual al texto genérico mostrado anteriormente.\n"
      ],
      "metadata": {
        "id": "Y0_ErXeSaZK_"
      }
    },
    {
      "cell_type": "code",
      "source": [
        "import re\n",
        "#Añade a la clase Email el método mensaje\n",
        "class Email():\n",
        "  def proveedor_usuarios(self, lista):\n",
        "    self.lista = lista\n",
        "    proveedores=[]\n",
        "    dict_emails={}\n",
        "    for i in self.lista:\n",
        "      i=i.split('@')\n",
        "      if i[1] not in proveedores:\n",
        "        proveedores.append(i[1])\n",
        "    for x in proveedores:\n",
        "      dict_emails[x]=[user[:user.index('@')] for user in self.lista if x in user]\n",
        "    \n",
        "    return dict_emails\n",
        "\n",
        "  def mensaje(self, texto):\n",
        "    f = open('mensaje_generico.txt', 'w')\n",
        "    f.write(texto)\n",
        "    f.close()\n",
        "    return texto\n",
        "\n",
        "\n",
        "\n",
        "\n",
        "\n",
        "\n",
        "Email().mensaje('Buenos dias {nombre},\\nGracias por elegir {proveedor} como tu proveedor de mensajes.\\nUn cordial saludo')\n"
      ],
      "metadata": {
        "id": "ul4gVehYcInR",
        "outputId": "3a122487-6529-407c-c377-d9490a855f42",
        "colab": {
          "base_uri": "https://localhost:8080/",
          "height": 58
        }
      },
      "execution_count": null,
      "outputs": [
        {
          "output_type": "execute_result",
          "data": {
            "text/plain": [
              "'Buenos dias {nombre},\\nGracias por elegir {proveedor} como tu proveedor de mensajes.\\nUn cordial saludo'"
            ],
            "application/vnd.google.colaboratory.intrinsic+json": {
              "type": "string"
            }
          },
          "metadata": {},
          "execution_count": 6
        }
      ]
    },
    {
      "cell_type": "code",
      "source": [
        "#@title Comprueba el método mensaje\n",
        "texto_check2='Comprobando el método mensaje de la clase Email para {nombre} y {proveedor}'\n",
        "def check2():\n",
        "  if Email().mensaje(texto_check2)=='Comprobando el método mensaje de la clase Email para {nombre} y {proveedor}':\n",
        "    return 'Correcto'\n",
        "  else:\n",
        "    return 'Incorrecto'\n",
        "\n",
        "check2()"
      ],
      "metadata": {
        "id": "PRdYaJzkuZem",
        "outputId": "3d47e587-ef76-4c73-c02c-aabf396d2dbb",
        "colab": {
          "base_uri": "https://localhost:8080/",
          "height": 58
        }
      },
      "execution_count": null,
      "outputs": [
        {
          "output_type": "execute_result",
          "data": {
            "text/plain": [
              "'Correcto'"
            ],
            "application/vnd.google.colaboratory.intrinsic+json": {
              "type": "string"
            }
          },
          "metadata": {},
          "execution_count": 7
        }
      ]
    },
    {
      "cell_type": "markdown",
      "source": [
        "##Método preparar_envio\n",
        "\n",
        "Añade el método preparar_envio el cual debe recibir como parámetros:\n",
        "\n",
        "* El diccionario con los correos separados por proveedor.\n",
        "\n",
        "* El proveedor de correos a cuyos usuarios queremos enviarles el correo.\n",
        "\n",
        "* El mensaje genérico a personalizar.\n",
        "\n",
        "Y debe crear tantos emails personalizados en txt y devolver la cadena de texto: 'Se han creado x correos personalizados para ususarios que usan y'.\n",
        "\n",
        "Donde \"x\" sea el número de correos creados e \"y\" el nombre del proveedor de correo.\n",
        "\n",
        "EJEMPLO\n",
        "\n",
        "Entrada\n",
        "\n",
        "      dict_emails=Email().proveedor_usuarios(Lista_emails)\n",
        "      generico=Email().mensaje('Buenos dias {nombre},\\nGracias por elegir {proveedor} como tu proveedor de mensajes.\\nUn coordial saludo')\n",
        "      Email().preparar_envio(dict_emails,'youtlook.es',generico)\n",
        "\n",
        "Salida\n",
        "\n",
        "      'Se han creado 4 emails personalizados de cuentas de youtlook.es'"
      ],
      "metadata": {
        "id": "iCEOKZ6Xep6-"
      }
    },
    {
      "cell_type": "code",
      "source": [
        "import re\n",
        "#Añade a la clase Email el método preparar_envio\n",
        "class Email():\n",
        "  def proveedor_usuarios(self, lista):\n",
        "    self.lista = lista\n",
        "    proveedores=[]\n",
        "    dict_emails={}\n",
        "    for i in self.lista:\n",
        "      i=i.split('@')\n",
        "      if i[1] not in proveedores:\n",
        "        proveedores.append(i[1])\n",
        "    for x in proveedores:\n",
        "      dict_emails[x]=[user[:user.index('@')] for user in self.lista if x in user]\n",
        "    \n",
        "    return dict_emails\n",
        "\n",
        "  def mensaje(self, texto):\n",
        "    self.texto = texto\n",
        "    f = open('mensaje_generico.txt', 'w')\n",
        "    f.write(texto)\n",
        "    f.close()\n",
        "    try:\n",
        "      open('mensaje_generico.txt','r')\n",
        "    except:\n",
        "      return 'Fallo al crear el mensaje genérico'\n",
        "    else:\n",
        "      print(f'Mensaje genérico creado con éxito')\n",
        "      file = open(\"mensaje_generico.txt\", \"r\")\n",
        "      return file.read()\n",
        "    \n",
        "  \n",
        "  def preparar_envio(self,dic,proveedor,texto_generico):\n",
        "    self.dic=dic\n",
        "    self.proveedor=proveedor\n",
        "    self.generico=texto_generico\n",
        "    nombres=self.dic[self.proveedor]\n",
        "    mails_listos=0\n",
        "    for nombre in nombres:\n",
        "      mensaje_personalizado=re.sub(r'{nombre}',nombre,self.generico)\n",
        "      mensaje_personalizado=re.sub(r'{proveedor}',self.proveedor,mensaje_personalizado)\n",
        "      file= open(nombre+'@'+proveedor+'.txt','w')\n",
        "      file.write(mensaje_personalizado)\n",
        "      file.close()\n",
        "      mails_listos+=1\n",
        "    return f'Se han creado {mails_listos} emails personalizados de cuentas de {self.proveedor}'\n",
        "\n",
        "\n",
        "\n",
        "\n",
        "\n",
        "\n",
        "dict_emails=Email().proveedor_usuarios(Lista_emails)\n",
        "generico=Email().mensaje('Buenos dias {nombre},\\nGracias por elegir {proveedor} como tu proveedor de mensajes.\\nUn coordial saludo')\n",
        "Email().preparar_envio(dict_emails,'youtlook.es',generico)"
      ],
      "metadata": {
        "id": "XsPmb5nTy2jj",
        "outputId": "643a11e3-2349-43f0-80f6-913bd00e2778",
        "colab": {
          "base_uri": "https://localhost:8080/",
          "height": 74
        }
      },
      "execution_count": null,
      "outputs": [
        {
          "output_type": "stream",
          "name": "stdout",
          "text": [
            "Mensaje genérico creado con éxito\n"
          ]
        },
        {
          "output_type": "execute_result",
          "data": {
            "text/plain": [
              "'Se han creado 4 emails personalizados de cuentas de youtlook.es'"
            ],
            "application/vnd.google.colaboratory.intrinsic+json": {
              "type": "string"
            }
          },
          "metadata": {},
          "execution_count": 8
        }
      ]
    },
    {
      "cell_type": "code",
      "source": [
        "#@title Comprueba el método preparar_envio\n",
        "def check3():\n",
        "  if Email().preparar_envio(Email().proveedor_usuarios(lista_check),'hola.com',Email().mensaje('Comprobando el método mensaje de la clase Email para {nombre} y {proveedor}'))=='Se han creado 2 emails personalizados de cuentas de hola.com':\n",
        "    fileA=open('pedro@youtlook.es.txt','r')\n",
        "    text_check3A=fileA.read()\n",
        "    fileA.close()\n",
        "    fileB=open('donaire@youtlook.es.txt','r')\n",
        "    text_check3B=fileB.read()\n",
        "    fileB.close()\n",
        "    if text_check3A!=text_check3B:\n",
        "      return 'Correcto'\n",
        "    else:\n",
        "      return 'Incorrecto. Comprueba el contenido de los txt.'\n",
        "  else:\n",
        "    return 'Incorrecto'\n",
        "\n",
        "check3()"
      ],
      "metadata": {
        "id": "yhV1nUO27uSe",
        "outputId": "b07f00b9-6962-4626-8de9-5c944658c939",
        "colab": {
          "base_uri": "https://localhost:8080/",
          "height": 74
        }
      },
      "execution_count": null,
      "outputs": [
        {
          "output_type": "stream",
          "name": "stdout",
          "text": [
            "Mensaje genérico creado con éxito\n"
          ]
        },
        {
          "output_type": "execute_result",
          "data": {
            "text/plain": [
              "'Correcto'"
            ],
            "application/vnd.google.colaboratory.intrinsic+json": {
              "type": "string"
            }
          },
          "metadata": {},
          "execution_count": 9
        }
      ]
    },
    {
      "cell_type": "code",
      "source": [
        "#@title Consigue el Token para corregir el proyecto en Nodd3r\n",
        "import hashlib\n",
        "\n",
        "file1=open('a1@hola.com.txt','r')\n",
        "text_token1=file1.read()\n",
        "file1.close()\n",
        "file2=open('donaire@youtlook.es.txt','r')\n",
        "text_token2=file2.read()\n",
        "file2.close()\n",
        "pwd = hashlib.sha256((str(text_token1)+str(text_token2)).encode())\n",
        "if pwd.hexdigest()[0:6] == '342c06':\n",
        "  print('¡Felicidades! puedes avanzar al siguiente modulo \\n El token es: ',pwd.hexdigest())\n",
        "else:\n",
        "  print('Hay algún error en el código o tu forma es diferente a la planteada, pregunta por el foro si no lo ves claro.')\n",
        "#print(pwd.hexdigest())"
      ],
      "metadata": {
        "id": "hEBD1WxWy0gM",
        "outputId": "c551cacb-40cf-4a61-d3d3-aae42efef9c9",
        "colab": {
          "base_uri": "https://localhost:8080/"
        }
      },
      "execution_count": null,
      "outputs": [
        {
          "output_type": "stream",
          "name": "stdout",
          "text": [
            "¡Felicidades! puedes avanzar al siguiente modulo \n",
            " El token es:  342c06d09a500fd46c4b268dc99511bbe444405daa69e6c3ade1ed39125e7679\n"
          ]
        }
      ]
    }
  ]
}